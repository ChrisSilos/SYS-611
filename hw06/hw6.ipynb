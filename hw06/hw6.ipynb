{
 "cells": [
  {
   "cell_type": "code",
   "execution_count": 1,
   "metadata": {},
   "outputs": [],
   "source": [
    "# Import libraries\n",
    "import numpy as np\n",
    "import scipy.stats as stats\n",
    "import matplotlib.pyplot as plt"
   ]
  },
  {
   "cell_type": "code",
   "execution_count": 2,
   "metadata": {},
   "outputs": [],
   "source": [
    "# Process generator for demand\n",
    "def generate_demand():\n",
    "    r = np.random.rand()\n",
    "    if r < 0.13:\n",
    "       return 2\n",
    "    elif r < 0.55:\n",
    "       return 3\n",
    "    else:\n",
    "       return 5"
   ]
  },
  {
   "cell_type": "code",
   "execution_count": 3,
   "metadata": {},
   "outputs": [],
   "source": [
    "def generate_lead_time():\n",
    "    r = np.random.exponential(scale=4)\n",
    "    lead_time = 5 + r\n",
    "    return(lead_time)"
   ]
  },
  {
   "cell_type": "code",
   "execution_count": 4,
   "metadata": {},
   "outputs": [],
   "source": [
    "num_runs = 10\n",
    "samples_P = np.zeros(num_runs)\n",
    "for i in range(num_runs):\n",
    "    # Initialize state \n",
    "    t = 0.0\n",
    "    N = 40\n",
    "    P = 0\n",
    "    t_d = float('inf')\n",
    "    \n",
    "    \n",
    "    obs_time = []\n",
    "    inventory = []\n",
    "    penalty = []\n",
    "    \n",
    "    # Simulate 260 days\n",
    "    while t < 260.0:\n",
    "        # Generate demand \n",
    "        d = generate_demand()\n",
    "        # Update invetory level\n",
    "        N -= d\n",
    "        # Add penalty\n",
    "        if N < 0:\n",
    "            P -= N\n",
    "        # Check if a new order is necessary\n",
    "        if N < 30 and t_d == float('inf'):\n",
    "            # Schedule order\n",
    "            t_d = t + generate_lead_time()\n",
    "        # Check if order has been delivered\n",
    "        if t_d <= t + 1:\n",
    "            N += 40\n",
    "            t_d = float('inf')\n",
    "        t += 1\n",
    "        \n",
    "        obs_time.append(t)\n",
    "        inventory.append(N)\n",
    "        penalty.append(P)\n",
    "    \n",
    "    samples_P[i] = P"
   ]
  },
  {
   "cell_type": "code",
   "execution_count": 5,
   "metadata": {},
   "outputs": [
    {
     "data": {
      "text/plain": [
       "<matplotlib.legend.Legend at 0x168984550>"
      ]
     },
     "execution_count": 5,
     "metadata": {},
     "output_type": "execute_result"
    },
    {
     "data": {
      "image/png": "[encoded data removed]",
      "text/plain": [
       "<Figure size 432x288 with 1 Axes>"
      ]
     },
     "metadata": {
      "needs_background": "light"
     },
     "output_type": "display_data"
    },
    {
     "data": {
      "image/png": "[encoded data removed]",
      "text/plain": [
       "<Figure size 432x288 with 1 Axes>"
      ]
     },
     "metadata": {
      "needs_background": "light"
     },
     "output_type": "display_data"
    }
   ],
   "source": [
    "# Generate plots for the most recent sample (out of 10)\n",
    "\n",
    "# Plot the inventory over time\n",
    "plt.figure()\n",
    "plt.step(obs_time, inventory, where='post', label='A/D Converter')\n",
    "plt.axhline(y=0, color='r', linestyle='-')\n",
    "plt.xlabel('Day')\n",
    "plt.ylabel('Inventory Level')\n",
    "plt.legend(loc='best')\n",
    "\n",
    "# Plot the penalty over time\n",
    "plt.figure()\n",
    "plt.step(obs_time, penalty, where='post', label='A/D Converter')\n",
    "plt.xlabel('Day')\n",
    "plt.ylabel('Penalty')\n",
    "plt.legend(loc='best')\n"
   ]
  },
  {
   "cell_type": "code",
   "execution_count": 6,
   "metadata": {},
   "outputs": [
    {
     "name": "stdout",
     "output_type": "stream",
     "text": [
      "95% confidence interval for P for 10 simulation runs = [692.78, 2416.02]\n"
     ]
    }
   ],
   "source": [
    "print(f'95% confidence interval for P for {num_runs} simulation runs = [{np.mean(samples_P)-1.96*stats.sem(samples_P):.2f}, {np.mean(samples_P)+1.96*stats.sem(samples_P):.2f}]')"
   ]
  },
  {
   "cell_type": "code",
   "execution_count": null,
   "metadata": {},
   "outputs": [],
   "source": []
  }
 ],
 "metadata": {
  "interpreter": {
   "hash": "7cbe2c19f9c0c24baaa32e065b62fa82ceb1f2c7e2320fcbef78b78f3411137b"
  },
  "kernelspec": {
   "display_name": "Python 3.10.0 64-bit ('minimal_ds': conda)",
   "language": "python",
   "name": "python3"
  },
  "language_info": {
   "codemirror_mode": {
    "name": "ipython",
    "version": 3
   },
   "file_extension": ".py",
   "mimetype": "text/x-python",
   "name": "python",
   "nbconvert_exporter": "python",
   "pygments_lexer": "ipython3",
   "version": "3.10.0"
  },
  "orig_nbformat": 4
 },
 "nbformat": 4,
 "nbformat_minor": 2
}
