{
 "cells": [
  {
   "cell_type": "markdown",
   "metadata": {},
   "source": [
    "# Chris Silos \n",
    "## The cells containing my code for get_winner and is_tie are at the end of the notebook\n",
    "### I also added a cell containing a simulated game to test my code\n",
    "### The rest of the cells are pulled directly from your notebook on github"
   ]
  },
  {
   "cell_type": "code",
   "execution_count": 1,
   "metadata": {},
   "outputs": [
    {
     "name": "stdout",
     "output_type": "stream",
     "text": [
      "[[' ', ' ', ' '], [' ', ' ', ' '], [' ', ' ', ' ']]\n"
     ]
    }
   ],
   "source": [
    "state = [\n",
    "    [\" \", \" \", \" \"],\n",
    "    [\" \", \" \", \" \"],\n",
    "    [\" \", \" \", \" \"]\n",
    "]\n",
    "print(state)"
   ]
  },
  {
   "cell_type": "code",
   "execution_count": 2,
   "metadata": {},
   "outputs": [
    {
     "name": "stdout",
     "output_type": "stream",
     "text": [
      "   0  1  2\n",
      "0         \n",
      "1         \n",
      "2         \n"
     ]
    }
   ],
   "source": [
    "import pandas as pd\n",
    "\n",
    "def show_grid(state):\n",
    "    \"\"\"\n",
    "    Show the game state using a pandas data frame.\n",
    "    \"\"\"\n",
    "    print(pd.DataFrame(state))\n",
    "\n",
    "show_grid(state)"
   ]
  },
  {
   "cell_type": "code",
   "execution_count": 3,
   "metadata": {},
   "outputs": [
    {
     "data": {
      "text/plain": [
       "9"
      ]
     },
     "execution_count": 3,
     "metadata": {},
     "output_type": "execute_result"
    }
   ],
   "source": [
    "def count_empty_cells(state):\n",
    "    \"\"\"\n",
    "    Count the number of empty cells in a game state.\n",
    "    \"\"\"\n",
    "    count = 0\n",
    "    # loop over each row\n",
    "    for i in range(3):\n",
    "        # loop over each column\n",
    "        for j in range(3):\n",
    "            # if the cell value is blank (\" \")\n",
    "            if state[i][j] == \" \":\n",
    "                # increment the count\n",
    "                count += 1\n",
    "    return count\n",
    "\n",
    "count_empty_cells(state)"
   ]
  },
  {
   "cell_type": "code",
   "execution_count": 4,
   "metadata": {},
   "outputs": [
    {
     "data": {
      "text/plain": [
       "9"
      ]
     },
     "execution_count": 4,
     "metadata": {},
     "output_type": "execute_result"
    }
   ],
   "source": [
    "def count_empty_cells(state):\n",
    "    \"\"\"\n",
    "    Count the number of empty cells in a game state.\n",
    "    \"\"\"\n",
    "    # count the number of cells with value \" \"\n",
    "    return sum(cell==\" \" for row in state for cell in row)\n",
    "\n",
    "count_empty_cells(state)"
   ]
  },
  {
   "cell_type": "code",
   "execution_count": 5,
   "metadata": {},
   "outputs": [
    {
     "data": {
      "text/plain": [
       "True"
      ]
     },
     "execution_count": 5,
     "metadata": {},
     "output_type": "execute_result"
    }
   ],
   "source": [
    "def is_valid(row, col):\n",
    "    \"\"\"\n",
    "    Determine if the location (row,col) is valid for a move.\n",
    "    \"\"\"\n",
    "    return state[row][col] == \" \"\n",
    "\n",
    "is_valid(0,0)"
   ]
  },
  {
   "cell_type": "code",
   "execution_count": 6,
   "metadata": {},
   "outputs": [
    {
     "name": "stdout",
     "output_type": "stream",
     "text": [
      "   0  1  2\n",
      "0         \n",
      "1         \n",
      "2         \n",
      "   0  1  2\n",
      "0         \n",
      "1     x   \n",
      "2         \n",
      "   0  1  2\n",
      "0         \n",
      "1     x   \n",
      "2         \n",
      "   0  1  2\n",
      "0  o      \n",
      "1     x   \n",
      "2         \n"
     ]
    }
   ],
   "source": [
    "def mark_x(state, row, col):\n",
    "    \"\"\"\n",
    "    Attempt to make an x mark at location (row, col)\n",
    "    \"\"\"\n",
    "    # check if this is a valid move\n",
    "    if is_valid(row, col):\n",
    "        # if valid, update the state accordingly\n",
    "        state[row][col] = \"x\"\n",
    "\n",
    "# define a function to mark an 'o' at a row and column\n",
    "def mark_o(state, row, col):\n",
    "    \"\"\"\n",
    "    Attempt to make an o mark at location (row, col)\n",
    "    \"\"\"\n",
    "    # check if this is a valid move\n",
    "    if is_valid(row, col):\n",
    "        # if valid, update the state accordingly\n",
    "        state[row][col] = \"o\"\n",
    "\n",
    "show_grid(state)\n",
    "mark_x(state, 1,1)\n",
    "show_grid(state)\n",
    "mark_o(state, 1,1)\n",
    "show_grid(state)\n",
    "mark_o(state, 0,0)\n",
    "show_grid(state)"
   ]
  },
  {
   "cell_type": "code",
   "execution_count": 7,
   "metadata": {},
   "outputs": [
    {
     "name": "stdout",
     "output_type": "stream",
     "text": [
      "   0  1  2\n",
      "0  o      \n",
      "1     x   \n",
      "2         \n",
      "   0  1  2\n",
      "0         \n",
      "1         \n",
      "2         \n"
     ]
    }
   ],
   "source": [
    "def reset_game(state):\n",
    "    \"\"\"\n",
    "    Reset the game state, returning every cell to a blank space.\n",
    "    \"\"\"\n",
    "    # loop over each row\n",
    "    for i in range(3):\n",
    "        # loop over each column\n",
    "        for j in range(3):\n",
    "            # empty the state location at (i,j)\n",
    "            state[i][j] = \" \"\n",
    "\n",
    "show_grid(state)\n",
    "reset_game(state)\n",
    "show_grid(state)"
   ]
  },
  {
   "cell_type": "code",
   "execution_count": 85,
   "metadata": {},
   "outputs": [],
   "source": [
    "def get_winner(state):\n",
    "    \"\"\"\n",
    "    Check if there is a winner for this game. \n",
    "    If there is a winner, return the corresponding letter (\"x\" or \"o\"). \n",
    "    Otherwise, return the special value None.\n",
    "    \"\"\"\n",
    "    # Assign each space on the board to a variable \n",
    "    top_left = state[0][0]\n",
    "    top_middle = state[0][1]\n",
    "    top_right = state[0][2]\n",
    "    middle_left = state[1][0]\n",
    "    middle_middle = state[1][1]\n",
    "    middle_right = state[1][2]\n",
    "    bottom_left = state[2][0]\n",
    "    bottom_middle = state[2][1]\n",
    "    bottom_right = state[2][2]\n",
    "\n",
    "    # Each condition for winning is shown below\n",
    "    # If one of the conditions are met, the value (x or o) of one of the three spaces is returned\n",
    "    # The value being returned is one of the three spaces in the condition (I chose the first space in the condition for convenience, but it could have been any of the three)\n",
    "\n",
    "    if top_left == top_middle == top_right: # Check for top horizontal winner\n",
    "        return(top_left)\n",
    "\n",
    "    elif middle_left == middle_middle == middle_right: # Check for middle horizontal winner\n",
    "        return(middle_left)\n",
    "\n",
    "    elif bottom_left == bottom_middle == bottom_right: # Check for bottom horizontal winner\n",
    "        return(bottom_left)\n",
    "\n",
    "    elif top_left == middle_left == bottom_left: # Check for left vertical winner\n",
    "        return(top_left)\n",
    "    \n",
    "    elif top_middle == middle_middle == bottom_middle: # Check for middle vertical winner\n",
    "        return(top_middle)\n",
    "    \n",
    "    elif top_right == middle_right == bottom_right: # Check for right vertical winner\n",
    "        return(top_right)\n",
    "\n",
    "    elif top_left == middle_middle == bottom_right: # Check for diagonal 1 winner\n",
    "        return(top_left)\n",
    "    \n",
    "    elif top_right == middle_middle == bottom_left: # Check for diagonal 2 winner\n",
    "        return(top_right)\n",
    "    \n",
    "    else: # None of the above conditions are met, return None\n",
    "        return(' ')\n",
    "\n",
    "\n",
    "\n",
    "def is_tie(state):\n",
    "    \"\"\"\n",
    "    Check if the current game state is considered a tie (i.e., no winner is possible). \n",
    "    Return True if it is a tie, False otherwise.\n",
    "    \"\"\"\n",
    "    game_finished = 1 # Assume that the game is finished\n",
    "\n",
    "    # Check if the game is actually finished (all spaces are filled with either an x or an o)\n",
    "    for i in range(3):\n",
    "        for j in range(3):\n",
    "            if state[i][j] == \" \": \n",
    "                game_finished == 0 # If any of the game spaces are filled with the default \" \", then the game is not finished\n",
    "                \n",
    "    \n",
    "    if game_finished == 1: # If the game is finished, check if there is a winner\n",
    "        if get_winner(state) == 'x' or get_winner(state) == 'o':\n",
    "            return False\n",
    "        else:\n",
    "            return True\n",
    "    else: # If the game is not yet finished, prompt the user to continue the game\n",
    "        return('The game is not yet finished, please continue')\n"
   ]
  },
  {
   "cell_type": "code",
   "execution_count": 89,
   "metadata": {},
   "outputs": [
    {
     "name": "stdout",
     "output_type": "stream",
     "text": [
      "   0  1  2\n",
      "0  x  o  o\n",
      "1  o  x  o\n",
      "2  x  o  x\n"
     ]
    }
   ],
   "source": [
    "reset_game(state)\n",
    "\n",
    "mark_o(state,0,1)\n",
    "\n",
    "mark_x(state,0,0)\n",
    "\n",
    "mark_o(state,0,2)\n",
    "\n",
    "mark_x(state,1,1)\n",
    "\n",
    "mark_o(state,1,0)\n",
    "\n",
    "mark_x(state,2,0)\n",
    "\n",
    "mark_o(state,1,2)\n",
    "\n",
    "mark_x(state,2,2)\n",
    "\n",
    "mark_o(state,2,1)\n",
    "\n",
    "\n",
    "\n",
    "show_grid(state)"
   ]
  },
  {
   "cell_type": "code",
   "execution_count": 90,
   "metadata": {},
   "outputs": [
    {
     "data": {
      "text/plain": [
       "'x'"
      ]
     },
     "execution_count": 90,
     "metadata": {},
     "output_type": "execute_result"
    }
   ],
   "source": [
    "get_winner(state)"
   ]
  },
  {
   "cell_type": "code",
   "execution_count": 91,
   "metadata": {},
   "outputs": [
    {
     "data": {
      "text/plain": [
       "False"
      ]
     },
     "execution_count": 91,
     "metadata": {},
     "output_type": "execute_result"
    }
   ],
   "source": [
    "is_tie(state)"
   ]
  }
 ],
 "metadata": {
  "interpreter": {
   "hash": "31f2aee4e71d21fbe5cf8b01ff0e069b9275f58929596ceb00d14d90e3e16cd6"
  },
  "kernelspec": {
   "display_name": "Python 3.8.9 64-bit",
   "language": "python",
   "name": "python3"
  },
  "language_info": {
   "codemirror_mode": {
    "name": "ipython",
    "version": 3
   },
   "file_extension": ".py",
   "mimetype": "text/x-python",
   "name": "python",
   "nbconvert_exporter": "python",
   "pygments_lexer": "ipython3",
   "version": "3.8.8"
  },
  "orig_nbformat": 4
 },
 "nbformat": 4,
 "nbformat_minor": 2
}
