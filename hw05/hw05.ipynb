{
 "cells": [
  {
   "cell_type": "markdown",
   "metadata": {},
   "source": [
    "# Chris Silos\n",
    "# SYS 611 HW 5\n",
    "# 5.1\n",
    "# d)"
   ]
  },
  {
   "cell_type": "code",
   "execution_count": 2,
   "metadata": {},
   "outputs": [],
   "source": [
    "import numpy as np\n",
    "import matplotlib.pyplot as plt"
   ]
  },
  {
   "cell_type": "code",
   "execution_count": 24,
   "metadata": {},
   "outputs": [],
   "source": [
    "# List to hold states when Cobb is on base (first, second, or third)\n",
    "on_base = [1,2,3]\n",
    "\n",
    "# define the state transition function\n",
    "def _delta(q):\n",
    "    r = np.random.rand()\n",
    "\n",
    "    # if Cobb starts from the bench\n",
    "    if q == 0:\n",
    "        if r <= 0.52:\n",
    "            # Cobb gets out\n",
    "            return 0\n",
    "        elif 0.520 < r <= 0.933:\n",
    "            # Cobb hits a single\n",
    "            return 1\n",
    "        elif 0.933 < r <= 0.977:\n",
    "            # Cobb hits a double\n",
    "            return 2\n",
    "        elif 0.977 < r <= 0.996:\n",
    "            # Cobb hits a triple\n",
    "            return 3\n",
    "        else:\n",
    "            # Cobb hits a home run\n",
    "            return 4\n",
    "\n",
    "    # if Cobb starts on first, second, or third\n",
    "    elif q in on_base:\n",
    "        if r <= 0.284:\n",
    "            # gets caught stealing\n",
    "            return 0\n",
    "        else:\n",
    "            return(q+1)\n",
    "            \n",
    "    # if Cobb arrives at home plate\n",
    "    else:\n",
    "        return 0"
   ]
  },
  {
   "cell_type": "code",
   "execution_count": 29,
   "metadata": {},
   "outputs": [
    {
     "data": {
      "image/png": "[encoded data removed]",
      "text/plain": [
       "<Figure size 864x432 with 1 Axes>"
      ]
     },
     "metadata": {
      "needs_background": "light"
     },
     "output_type": "display_data"
    }
   ],
   "source": [
    "# define the number of samples and create a state trajectory\n",
    "num_samples = 1000\n",
    "q = np.zeros(num_samples)\n",
    "\n",
    "# perform all the state transitions\n",
    "for t in range(num_samples - 1):\n",
    "    q[t+1] = _delta(q[t])\n",
    "\n",
    "# create a plot of the state trajectory\n",
    "plt.figure(figsize=(12,6))\n",
    "plt.step(range(num_samples), q, '-r')\n",
    "plt.xlabel('Time ($t$)')\n",
    "plt.ylabel('State ($q$)')\n",
    "plt.yticks([0,1,2,3,4], ['0: Out','1: First','2: Second', '3:Third', '4:Home'])\n",
    "plt.show()"
   ]
  },
  {
   "cell_type": "code",
   "execution_count": 30,
   "metadata": {},
   "outputs": [
    {
     "name": "stdout",
     "output_type": "stream",
     "text": [
      "estimated stationary distribution (solved using simulation):\n",
      "P(q=0) = 0.466 (out)\n",
      "P(q=1) = 0.195 (first)\n",
      "P(q=2) = 0.153 (second)\n",
      "P(q=3) = 0.106 (third)\n",
      "P(q=4) = 0.080 (home)\n"
     ]
    }
   ],
   "source": [
    "# estimate the stationary distribution from the samples\n",
    "pi = np.zeros(5)\n",
    "for i in range(5):\n",
    "    pi[i] = np.sum(q==i)/num_samples\n",
    "\n",
    "print('estimated stationary distribution (solved using simulation):')\n",
    "print(f'P(q=0) = {pi[0]:.3f} (out)')\n",
    "print(f'P(q=1) = {pi[1]:.3f} (first)')\n",
    "print(f'P(q=2) = {pi[2]:.3f} (second)')\n",
    "print(f'P(q=3) = {pi[3]:.3f} (third)')\n",
    "print(f'P(q=4) = {pi[4]:.3f} (home)')\n",
    "\n",
    "\n"
   ]
  }
 ],
 "metadata": {
  "interpreter": {
   "hash": "7cbe2c19f9c0c24baaa32e065b62fa82ceb1f2c7e2320fcbef78b78f3411137b"
  },
  "kernelspec": {
   "display_name": "Python 3.10.0 64-bit ('minimal_ds': conda)",
   "language": "python",
   "name": "python3"
  },
  "language_info": {
   "codemirror_mode": {
    "name": "ipython",
    "version": 3
   },
   "file_extension": ".py",
   "mimetype": "text/x-python",
   "name": "python",
   "nbconvert_exporter": "python",
   "pygments_lexer": "ipython3",
   "version": "3.10.0"
  },
  "orig_nbformat": 4
 },
 "nbformat": 4,
 "nbformat_minor": 2
}
