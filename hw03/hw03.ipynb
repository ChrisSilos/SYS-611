{
 "cells": [
  {
   "cell_type": "markdown",
   "metadata": {},
   "source": [
    "# Chris Silos\n",
    "# SYS 611 Homework 3\n",
    "# 3.1 Simulating pi Again\n",
    "## 3.1a"
   ]
  },
  {
   "cell_type": "code",
   "execution_count": 62,
   "metadata": {},
   "outputs": [],
   "source": [
    "# Import libraries\n",
    "\n",
    "import numpy as np\n",
    "import scipy.stats as stats\n",
    "import matplotlib.pyplot as plt\n",
    "\n"
   ]
  },
  {
   "cell_type": "code",
   "execution_count": 63,
   "metadata": {},
   "outputs": [],
   "source": [
    "# Elementary variables\n",
    "def drop_rice():\n",
    "    # x and y represent the coordinates of the grain of rice within the white square\n",
    "    x = np.random.rand()\n",
    "    y = np.random.rand()\n",
    "\n",
    "    # Calculate derived variable 'z'\n",
    "    if np.sqrt( x**2 + y**2 ) <= 1:\n",
    "        z = 4\n",
    "    else:\n",
    "        z = 0\n",
    "\n",
    "    return(z)\n"
   ]
  },
  {
   "cell_type": "markdown",
   "metadata": {},
   "source": [
    "## 3.1b"
   ]
  },
  {
   "cell_type": "code",
   "execution_count": 64,
   "metadata": {},
   "outputs": [
    {
     "name": "stdout",
     "output_type": "stream",
     "text": [
      "95% confidence interval = 3.208 +/- 0.099\n"
     ]
    }
   ],
   "source": [
    "# Set the random number generator seed to 0\n",
    "num_samples = 1000\n",
    "\n",
    "# Generate 1000 samples\n",
    "samples = [drop_rice() for i in range(num_samples)]\n",
    "\n",
    "# Compute the lower and upper-bounds using a 95% confidence interval \n",
    "confidence_level = 0.05\n",
    "z_crit = stats.norm.ppf(1-confidence_level/2)\n",
    "\n",
    "# Print 95% confidence interval\n",
    "print(f'95% confidence interval = {np.average(samples):.3f} +/- {z_crit*stats.sem(samples):.3f}')"
   ]
  },
  {
   "cell_type": "markdown",
   "metadata": {},
   "source": [
    "## 3.1c"
   ]
  },
  {
   "cell_type": "code",
   "execution_count": 65,
   "metadata": {},
   "outputs": [],
   "source": [
    "def drop_rice_antithetic():\n",
    "    # x and y represent the coordinates of the grain of rice within the white square\n",
    "    x = np.random.rand()\n",
    "    y = np.random.rand()\n",
    "\n",
    "    \n",
    "    # Calculate derived variable 'z1'\n",
    "    if np.sqrt( x**2 + y**2 ) <= 1:\n",
    "        z1 = 4\n",
    "    else:\n",
    "        z1 = 0\n",
    "\n",
    "    # Calculate derived variable 'z2'\n",
    "    if np.sqrt( (1-x)**2 + (1-y)**2 ) <= 1:\n",
    "        z2 = 4\n",
    "    else:\n",
    "        z2 = 0\n",
    "\n",
    "    # Calculate derived variable 'z_a'\n",
    "    z_a = (z1+z2)/2\n",
    "\n",
    "    return(z_a)"
   ]
  },
  {
   "cell_type": "code",
   "execution_count": 66,
   "metadata": {},
   "outputs": [
    {
     "name": "stdout",
     "output_type": "stream",
     "text": [
      "95% confidence interval = 3.090 +/- 0.062\n"
     ]
    }
   ],
   "source": [
    "# Specify number of samples\n",
    "num_samples = 1000\n",
    "\n",
    "# Generate 1000 samples\n",
    "samples = [drop_rice_antithetic() for i in range(num_samples)]\n",
    "\n",
    "# Compute the lower and upper-bounds using a 95% confidence interval \n",
    "confidence_level = 0.05\n",
    "z_crit = stats.norm.ppf(1-confidence_level/2)\n",
    "\n",
    "# Print 95% confidence interval\n",
    "print(f'95% confidence interval = {np.average(samples):.3f} +/- {z_crit*stats.sem(samples):.3f}')"
   ]
  },
  {
   "cell_type": "markdown",
   "metadata": {},
   "source": [
    "# 3.2 Aircraft Range Estimation\n",
    "## 3.2a"
   ]
  },
  {
   "cell_type": "code",
   "execution_count": 67,
   "metadata": {},
   "outputs": [],
   "source": [
    "# Define process generator for the lift to drag ratio\n",
    "def gen_lift_drag():\n",
    "\n",
    "    # Generate random number between 15 and 18 (uniform distribution)\n",
    "    lift_drag_ratio = (np.random.rand()*3) + 15\n",
    "    return(lift_drag_ratio)"
   ]
  },
  {
   "cell_type": "code",
   "execution_count": 68,
   "metadata": {},
   "outputs": [],
   "source": [
    "def gen_init_to_final_weight(): \n",
    "    # Elementary variables represent the upper and lower bounds (a,b) of the ramp up funtion\n",
    "    a = 1.3\n",
    "    b = 1.5\n",
    "\n",
    "    # Generate a value from a triangular distribution between the elementary variables\n",
    "    f_x = np.random.triangular(left = a, mode = b, right = b)\n",
    "    return(f_x)"
   ]
  },
  {
   "cell_type": "markdown",
   "metadata": {},
   "source": [
    "## 3.2b"
   ]
  },
  {
   "cell_type": "code",
   "execution_count": 69,
   "metadata": {},
   "outputs": [],
   "source": [
    "def calculate_range():\n",
    "\n",
    "    # Define elementary variables\n",
    "    velocity = 255\n",
    "    lift_drag_ratio = gen_lift_drag()\n",
    "    impulse = 5950\n",
    "    init_to_final_weight_ratio = gen_init_to_final_weight()\n",
    "\n",
    "    # Calculate the range (in meters) the aircraft can travel\n",
    "    range_meters = velocity * lift_drag_ratio * impulse * np.log(init_to_final_weight_ratio)\n",
    "\n",
    "    # Convert the range to kilometers\n",
    "    range_kilometers = range_meters/1000\n",
    "\n",
    "    return(range_kilometers)\n"
   ]
  },
  {
   "cell_type": "markdown",
   "metadata": {},
   "source": [
    "## 3.2c"
   ]
  },
  {
   "cell_type": "code",
   "execution_count": 70,
   "metadata": {},
   "outputs": [
    {
     "data": {
      "image/png": "[encoded data removed]",
      "text/plain": [
       "<Figure size 432x288 with 1 Axes>"
      ]
     },
     "metadata": {
      "needs_background": "light"
     },
     "output_type": "display_data"
    },
    {
     "name": "stdout",
     "output_type": "stream",
     "text": [
      "Sample Mean: 8971.857 km\n",
      "25th percentile value: 8331.428699284099\n",
      "Probability of exceeding 9000 km in range: 51.40%\n"
     ]
    }
   ],
   "source": [
    "# Specify number of samples\n",
    "num_samples = 1000\n",
    "\n",
    "# Generate 1000 samples\n",
    "samples = [calculate_range() for i in range(num_samples)]\n",
    "\n",
    "# Compute the lower and upper-bounds using a 25% confidence interval \n",
    "confidence_level = 0.75\n",
    "z_crit = stats.norm.ppf(1-confidence_level/2)\n",
    "\n",
    "# Plot histogram of samples (in KILOMETERS)\n",
    "plt.figure()\n",
    "plt.hist(samples, bins=10, align='left', color='black', label='Generated Samples')\n",
    "plt.ylabel('Frequency')\n",
    "plt.xlabel('Range traveled ($km$)')\n",
    "plt.title(f'Distance Traveled by Aircraft without Fuel Process Generator Results ($n$={num_samples})')\n",
    "plt.legend()\n",
    "plt.show()\n",
    "\n",
    "# Calculate and print sample mean\n",
    "sample_mean = np.array(samples).mean()\n",
    "print(f'Sample Mean: {sample_mean:.3f} km')\n",
    "\n",
    "# Find 25th percentile sample\n",
    "print(f'25th percentile value: {np.percentile(samples,25)}')\n",
    "\n",
    "count = np.count_nonzero(np.array(samples) > 9000)\n",
    "print(f'Probability of exceeding 9000 km in range: {count/num_samples*100:.2f}%')\n"
   ]
  },
  {
   "cell_type": "markdown",
   "metadata": {},
   "source": [
    "# 3.3 Sven's Sweets\n",
    "## 3.3a"
   ]
  },
  {
   "cell_type": "code",
   "execution_count": 71,
   "metadata": {},
   "outputs": [
    {
     "data": {
      "image/png": "[encoded data removed]",
      "text/plain": [
       "<Figure size 432x288 with 1 Axes>"
      ]
     },
     "metadata": {
      "needs_background": "light"
     },
     "output_type": "display_data"
    }
   ],
   "source": [
    "from scipy.stats import triang\n",
    "\n",
    "x = np.linspace(40, 90)\n",
    "\n",
    "plt.figure()\n",
    "plt.title('PDF for Customer Demand Before Halloween')\n",
    "plt.ylabel('f(x)')\n",
    "plt.xlabel('Demand')\n",
    "plt.plot(x, triang.pdf(x, 3/5, 40, 50), alpha=1, label='triang pdf')\n",
    "plt.show()\n",
    "\n"
   ]
  },
  {
   "cell_type": "markdown",
   "metadata": {},
   "source": [
    "## 3.3b\n",
    "The decision variable is how much Sven orders\n",
    "## 3.3c\n",
    "The variable Sven seeks to maximize is profits. See attached document for the function\n",
    "## 3.3d"
   ]
  },
  {
   "cell_type": "code",
   "execution_count": 76,
   "metadata": {},
   "outputs": [],
   "source": [
    "# Function that generates a demand value according to the stated triangular distribution\n",
    "\n",
    "def demand_generator():\n",
    "    demand = np.random.triangular(left = 40, mode = 70, right = 90)\n",
    "    return(demand)"
   ]
  },
  {
   "cell_type": "markdown",
   "metadata": {},
   "source": [
    "## 3.3e"
   ]
  },
  {
   "cell_type": "code",
   "execution_count": 73,
   "metadata": {},
   "outputs": [],
   "source": [
    "# Define a function that generates a profit for Sven's shop based on a given inventory level\n",
    "def generate_profit(inv):\n",
    "\n",
    "    # Generate a demand value from a triangle distribution (40, 70, 90)\n",
    "    demand = demand_generator()\n",
    "    \n",
    "    # Set inventory equal to the argument inv\n",
    "    inventory = inv\n",
    "\n",
    "    if demand > inventory:\n",
    "        # Calculate the profit if the demand is greater than the inventory\n",
    "        profit = inventory*12 - inventory*10\n",
    "    else:\n",
    "        # Calculate the profit if the demand is not greater than the inventory\n",
    "        profit = demand * 12 + (inventory-demand)*3 - (inventory*10)\n",
    "    \n",
    "    return(profit)\n"
   ]
  },
  {
   "cell_type": "markdown",
   "metadata": {},
   "source": [
    "## 3.3f"
   ]
  },
  {
   "cell_type": "code",
   "execution_count": 77,
   "metadata": {},
   "outputs": [
    {
     "name": "stdout",
     "output_type": "stream",
     "text": [
      "Mean profit with an inventory level of 40: $80.00\n",
      "Mean profit with an inventory level of 50: $97.76\n",
      "Mean profit with an inventory level of 60: $104.21\n",
      "Mean profit with an inventory level of 70: $86.08\n",
      "Mean profit with an inventory level of 80: $37.15\n",
      "Mean profit with an inventory level of 90: $-21.78\n"
     ]
    }
   ],
   "source": [
    "# Print the mean profit over 1000 simulations for each inventory level\n",
    "\n",
    "profits_40 = [generate_profit(40) for i in range(num_samples)]\n",
    "print(f'Mean profit with an inventory level of 40: ${np.array(profits_40).mean():.2f}')\n",
    "\n",
    "profits_50 = [generate_profit(50) for i in range(num_samples)]\n",
    "print(f'Mean profit with an inventory level of 50: ${np.array(profits_50).mean():.2f}')\n",
    "\n",
    "profits_60 = [generate_profit(60) for i in range(num_samples)]\n",
    "print(f'Mean profit with an inventory level of 60: ${np.array(profits_60).mean():.2f}')\n",
    "\n",
    "profits_70 = [generate_profit(70) for i in range(num_samples)]\n",
    "print(f'Mean profit with an inventory level of 70: ${np.array(profits_70).mean():.2f}')\n",
    "\n",
    "profits_80 = [generate_profit(80) for i in range(num_samples)]\n",
    "print(f'Mean profit with an inventory level of 80: ${np.array(profits_80).mean():.2f}')\n",
    "\n",
    "profits_90 = [generate_profit(90) for i in range(num_samples)]\n",
    "print(f'Mean profit with an inventory level of 90: ${np.array(profits_90).mean():.2f}')"
   ]
  },
  {
   "cell_type": "code",
   "execution_count": 75,
   "metadata": {},
   "outputs": [
    {
     "data": {
      "text/plain": [
       "<BarContainer object of 6 artists>"
      ]
     },
     "execution_count": 75,
     "metadata": {},
     "output_type": "execute_result"
    },
    {
     "data": {
      "image/png": "[encoded data removed]",
      "text/plain": [
       "<Figure size 432x288 with 1 Axes>"
      ]
     },
     "metadata": {
      "needs_background": "light"
     },
     "output_type": "display_data"
    }
   ],
   "source": [
    "# Create list containing the average profit over 1000 simulations for each inventory level\n",
    "average_profit_list = [np.array(profits_40).mean(), np.array(profits_50).mean(), np.array(profits_60).mean(), np.array(profits_70).mean(), np.array(profits_80).mean(), np.array(profits_90).mean()]\n",
    "\n",
    "# Create list containing each possible inventory value\n",
    "inventory_list = [40, 50, 60, 70, 80, 90]\n",
    "\n",
    "# Plot bar chart for the average profit at each inventory level\n",
    "plt.figure()\n",
    "plt.title('Average Proft Over 1000 Simulations for Inventory Values Between 40 and 90')\n",
    "plt.ylabel('Average Profit ($)')\n",
    "plt.xlabel('Inventory Level')\n",
    "plt.axhline(y=0)\n",
    "plt.bar(inventory_list, average_profit_list, width = 6)\n"
   ]
  },
  {
   "cell_type": "code",
   "execution_count": null,
   "metadata": {},
   "outputs": [],
   "source": []
  }
 ],
 "metadata": {
  "interpreter": {
   "hash": "31f2aee4e71d21fbe5cf8b01ff0e069b9275f58929596ceb00d14d90e3e16cd6"
  },
  "kernelspec": {
   "display_name": "Python 3.8.9 64-bit",
   "language": "python",
   "name": "python3"
  },
  "language_info": {
   "codemirror_mode": {
    "name": "ipython",
    "version": 3
   },
   "file_extension": ".py",
   "mimetype": "text/x-python",
   "name": "python",
   "nbconvert_exporter": "python",
   "pygments_lexer": "ipython3",
   "version": "3.10.0"
  },
  "orig_nbformat": 4
 },
 "nbformat": 4,
 "nbformat_minor": 2
}
