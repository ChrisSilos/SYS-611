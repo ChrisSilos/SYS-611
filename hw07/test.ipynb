{
 "cells": [
  {
   "cell_type": "code",
   "execution_count": 6,
   "metadata": {},
   "outputs": [],
   "source": [
    "import numpy as np\n",
    "import matplotlib.pyplot as plt"
   ]
  },
  {
   "cell_type": "markdown",
   "metadata": {},
   "source": [
    "# 7.1     A Sweet Guess\n",
    "# a)"
   ]
  },
  {
   "cell_type": "code",
   "execution_count": 7,
   "metadata": {},
   "outputs": [],
   "source": [
    "def generate_count(size=1):\n",
    "    # sample the jar volume\n",
    "    V = np.random.triangular(1000*.98, 1000, 1000*1.02, size)\n",
    "    # sample the packing factor\n",
    "    mu = np.random.triangular(0.8*0.8, 0.8, 0.8*1.2, size)\n",
    "    # sample the average M&M diameter\n",
    "    B = np.random.triangular(1.3*0.9, 1.3, 1.3*1.1, size)\n",
    "    # sample the average M&M thickness\n",
    "    # sample and return the derived number of M&Ms in the jar\n",
    "    N = mu*V/B\n",
    "    return N.astype(int)"
   ]
  },
  {
   "cell_type": "markdown",
   "metadata": {},
   "source": [
    "# b)"
   ]
  },
  {
   "cell_type": "code",
   "execution_count": 8,
   "metadata": {},
   "outputs": [
    {
     "name": "stdout",
     "output_type": "stream",
     "text": [
      "N_bar = 616\n",
      "5th Percentile = 522\n",
      "95th Percentile = 712\n"
     ]
    },
    {
     "data": {
      "image/png": "[encoded data removed]",
      "text/plain": [
       "<Figure size 432x288 with 1 Axes>"
      ]
     },
     "metadata": {
      "needs_background": "light"
     },
     "output_type": "display_data"
    }
   ],
   "source": [
    "NUM_RUNS = 10000\n",
    "\n",
    "# generate NUM_RUNS samples\n",
    "N = generate_count(NUM_RUNS)\n",
    "\n",
    "# create a histogram to visualize results\n",
    "plt.figure()\n",
    "plt.hist(N, color='r')\n",
    "plt.xlabel('Number of Jelly Beans in Jar')\n",
    "plt.ylabel('Frequency')\n",
    "\n",
    "# print descriptive statistics\n",
    "print('N_bar = {:.0f}'.format(np.mean(N)))\n",
    "print('5th Percentile = {:.0f}'.format(np.percentile(N,5)))\n",
    "print('95th Percentile = {:.0f}'.format(np.percentile(N,95)))"
   ]
  }
 ],
 "metadata": {
  "interpreter": {
   "hash": "7cbe2c19f9c0c24baaa32e065b62fa82ceb1f2c7e2320fcbef78b78f3411137b"
  },
  "kernelspec": {
   "display_name": "Python 3.10.0 64-bit ('minimal_ds': conda)",
   "language": "python",
   "name": "python3"
  },
  "language_info": {
   "codemirror_mode": {
    "name": "ipython",
    "version": 3
   },
   "file_extension": ".py",
   "mimetype": "text/x-python",
   "name": "python",
   "nbconvert_exporter": "python",
   "pygments_lexer": "ipython3",
   "version": "3.10.0"
  },
  "orig_nbformat": 4
 },
 "nbformat": 4,
 "nbformat_minor": 2
}
